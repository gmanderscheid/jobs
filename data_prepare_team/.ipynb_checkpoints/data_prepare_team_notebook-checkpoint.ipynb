{
 "cells": [
  {
   "cell_type": "code",
   "execution_count": 37,
   "metadata": {},
   "outputs": [],
   "source": [
    "import pandas as pd \n",
    "df = pd.read_csv('../product_catalog.csv')"
   ]
  },
  {
   "cell_type": "markdown",
   "metadata": {},
   "source": [
    "# First assumption \n",
    "----"
   ]
  },
  {
   "cell_type": "markdown",
   "metadata": {},
   "source": [
    "Only rows with Nans from images makes rows consired as invalid, therefore we only return a df without Nans in images."
   ]
  },
  {
   "cell_type": "code",
   "execution_count": 39,
   "metadata": {},
   "outputs": [],
   "source": [
    "# needed to install fastparquet or pyarrow for conversion engine (justify why)\n",
    "dfValid = df[~df.image.isna()]\n",
    "dfValid.to_parquet('../dfValidA1.parquet', engine='fastparquet')\n",
    "dfArchived = df[df.image.isna()]\n",
    "dfArchived.to_parquet('../dfArchivedA1.parquet', engine='fastparquet')"
   ]
  },
  {
   "cell_type": "markdown",
   "metadata": {},
   "source": [
    "# Second assumption\n",
    "---"
   ]
  },
  {
   "cell_type": "markdown",
   "metadata": {},
   "source": [
    "Investigating other rows to observe inconistencies and have other possibles rows to alert about, or archive"
   ]
  },
  {
   "cell_type": "code",
   "execution_count": 40,
   "metadata": {},
   "outputs": [
    {
     "data": {
      "text/html": [
       "<div>\n",
       "<style scoped>\n",
       "    .dataframe tbody tr th:only-of-type {\n",
       "        vertical-align: middle;\n",
       "    }\n",
       "\n",
       "    .dataframe tbody tr th {\n",
       "        vertical-align: top;\n",
       "    }\n",
       "\n",
       "    .dataframe thead th {\n",
       "        text-align: right;\n",
       "    }\n",
       "</style>\n",
       "<table border=\"1\" class=\"dataframe\">\n",
       "  <thead>\n",
       "    <tr style=\"text-align: right;\">\n",
       "      <th></th>\n",
       "      <th>brand</th>\n",
       "      <th>category_id</th>\n",
       "      <th>comment</th>\n",
       "      <th>currency</th>\n",
       "      <th>description</th>\n",
       "      <th>image</th>\n",
       "      <th>year_release</th>\n",
       "    </tr>\n",
       "  </thead>\n",
       "  <tbody>\n",
       "    <tr>\n",
       "      <th>0</th>\n",
       "      <td>Toshiba</td>\n",
       "      <td>71</td>\n",
       "      <td>NaN</td>\n",
       "      <td>NOK</td>\n",
       "      <td>Male</td>\n",
       "      <td>data:image/png;base64,iVBORw0KGgoAAAANSUhEUgAA...</td>\n",
       "      <td>1993</td>\n",
       "    </tr>\n",
       "    <tr>\n",
       "      <th>1</th>\n",
       "      <td>HP</td>\n",
       "      <td>99</td>\n",
       "      <td>Suspendisse accumsan tortor quis turpis.</td>\n",
       "      <td>PEN</td>\n",
       "      <td>Male</td>\n",
       "      <td>data:image/png;base64,iVBORw0KGgoAAAANSUhEUgAA...</td>\n",
       "      <td>1988</td>\n",
       "    </tr>\n",
       "    <tr>\n",
       "      <th>2</th>\n",
       "      <td>Acer</td>\n",
       "      <td>69</td>\n",
       "      <td>Donec dapibus. Duis at velit eu est congue ele...</td>\n",
       "      <td>IDR</td>\n",
       "      <td>Female</td>\n",
       "      <td>data:image/png;base64,iVBORw0KGgoAAAANSUhEUgAA...</td>\n",
       "      <td>2010</td>\n",
       "    </tr>\n",
       "    <tr>\n",
       "      <th>3</th>\n",
       "      <td>HP</td>\n",
       "      <td>62</td>\n",
       "      <td>NaN</td>\n",
       "      <td>CNY</td>\n",
       "      <td>Female</td>\n",
       "      <td>data:image/png;base64,iVBORw0KGgoAAAANSUhEUgAA...</td>\n",
       "      <td>2008</td>\n",
       "    </tr>\n",
       "    <tr>\n",
       "      <th>4</th>\n",
       "      <td>Dell</td>\n",
       "      <td>48</td>\n",
       "      <td>Vivamus in felis eu sapien cursus vestibulum. ...</td>\n",
       "      <td>CNY</td>\n",
       "      <td>Male</td>\n",
       "      <td>data:image/png;base64,iVBORw0KGgoAAAANSUhEUgAA...</td>\n",
       "      <td>2013</td>\n",
       "    </tr>\n",
       "  </tbody>\n",
       "</table>\n",
       "</div>"
      ],
      "text/plain": [
       "     brand  category_id                                            comment  \\\n",
       "0  Toshiba           71                                                NaN   \n",
       "1       HP           99           Suspendisse accumsan tortor quis turpis.   \n",
       "2     Acer           69  Donec dapibus. Duis at velit eu est congue ele...   \n",
       "3       HP           62                                                NaN   \n",
       "4     Dell           48  Vivamus in felis eu sapien cursus vestibulum. ...   \n",
       "\n",
       "  currency description                                              image  \\\n",
       "0      NOK        Male  data:image/png;base64,iVBORw0KGgoAAAANSUhEUgAA...   \n",
       "1      PEN        Male  data:image/png;base64,iVBORw0KGgoAAAANSUhEUgAA...   \n",
       "2      IDR      Female  data:image/png;base64,iVBORw0KGgoAAAANSUhEUgAA...   \n",
       "3      CNY      Female  data:image/png;base64,iVBORw0KGgoAAAANSUhEUgAA...   \n",
       "4      CNY        Male  data:image/png;base64,iVBORw0KGgoAAAANSUhEUgAA...   \n",
       "\n",
       "   year_release  \n",
       "0          1993  \n",
       "1          1988  \n",
       "2          2010  \n",
       "3          2008  \n",
       "4          2013  "
      ]
     },
     "execution_count": 40,
     "metadata": {},
     "output_type": "execute_result"
    }
   ],
   "source": [
    "df.head()"
   ]
  },
  {
   "cell_type": "code",
   "execution_count": 76,
   "metadata": {},
   "outputs": [],
   "source": [
    "getperc = lambda x: round(x,2)*100\n",
    "\n",
    "def getComp(col):\n",
    "    \"\"\"\n",
    "    Compares distributions between 2 dataframes, dfValid and dfArchived for a given column indicated in args\n",
    "    \"\"\"\n",
    "    withoutNanImages = (dfValid.isna().sum() / dfValid.shape[0]).rename('withoutNanImages')\n",
    "    withNanImages = (dfArchived.isna().sum() / dfArchived.shape[0]).rename('withNanImages')\n",
    "    return pd.concat([withoutNanImages, withNanImages], axis=1).apply(getperc)"
   ]
  },
  {
   "cell_type": "markdown",
   "metadata": {},
   "source": [
    "## Nans \n",
    "----"
   ]
  },
  {
   "cell_type": "markdown",
   "metadata": {},
   "source": [
    "Comparing distribution of Nans between df with and without Nans (dfArchived = with nan images, dfValid = without nan images)"
   ]
  },
  {
   "cell_type": "code",
   "execution_count": 73,
   "metadata": {},
   "outputs": [
    {
     "data": {
      "text/html": [
       "<div>\n",
       "<style scoped>\n",
       "    .dataframe tbody tr th:only-of-type {\n",
       "        vertical-align: middle;\n",
       "    }\n",
       "\n",
       "    .dataframe tbody tr th {\n",
       "        vertical-align: top;\n",
       "    }\n",
       "\n",
       "    .dataframe thead th {\n",
       "        text-align: right;\n",
       "    }\n",
       "</style>\n",
       "<table border=\"1\" class=\"dataframe\">\n",
       "  <thead>\n",
       "    <tr style=\"text-align: right;\">\n",
       "      <th></th>\n",
       "      <th>withoutNanImages</th>\n",
       "      <th>withNanImages</th>\n",
       "    </tr>\n",
       "  </thead>\n",
       "  <tbody>\n",
       "    <tr>\n",
       "      <th>brand</th>\n",
       "      <td>0.0</td>\n",
       "      <td>0.0</td>\n",
       "    </tr>\n",
       "    <tr>\n",
       "      <th>category_id</th>\n",
       "      <td>0.0</td>\n",
       "      <td>0.0</td>\n",
       "    </tr>\n",
       "    <tr>\n",
       "      <th>comment</th>\n",
       "      <td>7.0</td>\n",
       "      <td>7.0</td>\n",
       "    </tr>\n",
       "    <tr>\n",
       "      <th>currency</th>\n",
       "      <td>0.0</td>\n",
       "      <td>0.0</td>\n",
       "    </tr>\n",
       "    <tr>\n",
       "      <th>description</th>\n",
       "      <td>15.0</td>\n",
       "      <td>19.0</td>\n",
       "    </tr>\n",
       "    <tr>\n",
       "      <th>image</th>\n",
       "      <td>0.0</td>\n",
       "      <td>100.0</td>\n",
       "    </tr>\n",
       "    <tr>\n",
       "      <th>year_release</th>\n",
       "      <td>0.0</td>\n",
       "      <td>0.0</td>\n",
       "    </tr>\n",
       "  </tbody>\n",
       "</table>\n",
       "</div>"
      ],
      "text/plain": [
       "              withoutNanImages  withNanImages\n",
       "brand                      0.0            0.0\n",
       "category_id                0.0            0.0\n",
       "comment                    7.0            7.0\n",
       "currency                   0.0            0.0\n",
       "description               15.0           19.0\n",
       "image                      0.0          100.0\n",
       "year_release               0.0            0.0"
      ]
     },
     "execution_count": 73,
     "metadata": {},
     "output_type": "execute_result"
    }
   ],
   "source": [
    "pd.concat([(dfValid.isna().sum() / dfValid.shape[0]).rename('withoutNanImages'), \n",
    "           (dfArchived.isna().sum() / dfArchived.shape[0]).rename('withNanImages')], axis=1).apply(getperc)"
   ]
  },
  {
   "cell_type": "markdown",
   "metadata": {},
   "source": [
    "### Brand\n",
    "----"
   ]
  },
  {
   "cell_type": "markdown",
   "metadata": {},
   "source": [
    "Comparing distrubution of brands between dfValid and dfArchived"
   ]
  },
  {
   "cell_type": "code",
   "execution_count": 70,
   "metadata": {},
   "outputs": [
    {
     "data": {
      "text/html": [
       "<div>\n",
       "<style scoped>\n",
       "    .dataframe tbody tr th:only-of-type {\n",
       "        vertical-align: middle;\n",
       "    }\n",
       "\n",
       "    .dataframe tbody tr th {\n",
       "        vertical-align: top;\n",
       "    }\n",
       "\n",
       "    .dataframe thead th {\n",
       "        text-align: right;\n",
       "    }\n",
       "</style>\n",
       "<table border=\"1\" class=\"dataframe\">\n",
       "  <thead>\n",
       "    <tr style=\"text-align: right;\">\n",
       "      <th></th>\n",
       "      <th>withoutNans</th>\n",
       "      <th>withNans</th>\n",
       "    </tr>\n",
       "  </thead>\n",
       "  <tbody>\n",
       "    <tr>\n",
       "      <th>HP</th>\n",
       "      <td>18.0</td>\n",
       "      <td>17.0</td>\n",
       "    </tr>\n",
       "    <tr>\n",
       "      <th>Toshiba</th>\n",
       "      <td>17.0</td>\n",
       "      <td>15.0</td>\n",
       "    </tr>\n",
       "    <tr>\n",
       "      <th>Samsung</th>\n",
       "      <td>17.0</td>\n",
       "      <td>18.0</td>\n",
       "    </tr>\n",
       "    <tr>\n",
       "      <th>Acer</th>\n",
       "      <td>17.0</td>\n",
       "      <td>15.0</td>\n",
       "    </tr>\n",
       "    <tr>\n",
       "      <th>Dell</th>\n",
       "      <td>16.0</td>\n",
       "      <td>19.0</td>\n",
       "    </tr>\n",
       "    <tr>\n",
       "      <th>Lenovo</th>\n",
       "      <td>15.0</td>\n",
       "      <td>15.0</td>\n",
       "    </tr>\n",
       "  </tbody>\n",
       "</table>\n",
       "</div>"
      ],
      "text/plain": [
       "         withoutNans  withNans\n",
       "HP              18.0      17.0\n",
       "Toshiba         17.0      15.0\n",
       "Samsung         17.0      18.0\n",
       "Acer            17.0      15.0\n",
       "Dell            16.0      19.0\n",
       "Lenovo          15.0      15.0"
      ]
     },
     "execution_count": 70,
     "metadata": {},
     "output_type": "execute_result"
    }
   ],
   "source": [
    "pd.concat([(dfValid.brand.value_counts() / dfValid.shape[0]).rename('withoutNans'), \n",
    "           (dfArchived.brand.value_counts() / dfArchived.shape[0]).rename('withNans')], \n",
    "          axis=1).apply(getperc)"
   ]
  },
  {
   "cell_type": "markdown",
   "metadata": {},
   "source": [
    "### Category_id \n",
    "----"
   ]
  },
  {
   "cell_type": "code",
   "execution_count": 72,
   "metadata": {},
   "outputs": [
    {
     "data": {
      "text/plain": [
       "22    15\n",
       "83    14\n",
       "34    14\n",
       "27    14\n",
       "46    14\n",
       "      ..\n",
       "50     3\n",
       "78     2\n",
       "47     2\n",
       "3      2\n",
       "11     1\n",
       "Name: category_id, Length: 100, dtype: int64"
      ]
     },
     "execution_count": 72,
     "metadata": {},
     "output_type": "execute_result"
    }
   ],
   "source": []
  },
  {
   "cell_type": "markdown",
   "metadata": {},
   "source": [
    "### Currency\n",
    "----"
   ]
  },
  {
   "cell_type": "code",
   "execution_count": 68,
   "metadata": {},
   "outputs": [
    {
     "data": {
      "text/html": [
       "<div>\n",
       "<style scoped>\n",
       "    .dataframe tbody tr th:only-of-type {\n",
       "        vertical-align: middle;\n",
       "    }\n",
       "\n",
       "    .dataframe tbody tr th {\n",
       "        vertical-align: top;\n",
       "    }\n",
       "\n",
       "    .dataframe thead th {\n",
       "        text-align: right;\n",
       "    }\n",
       "</style>\n",
       "<table border=\"1\" class=\"dataframe\">\n",
       "  <thead>\n",
       "    <tr style=\"text-align: right;\">\n",
       "      <th></th>\n",
       "      <th>withoutNans</th>\n",
       "      <th>withNans</th>\n",
       "    </tr>\n",
       "  </thead>\n",
       "  <tbody>\n",
       "    <tr>\n",
       "      <th>CNY</th>\n",
       "      <td>21.0</td>\n",
       "      <td>17.0</td>\n",
       "    </tr>\n",
       "    <tr>\n",
       "      <th>EUR</th>\n",
       "      <td>11.0</td>\n",
       "      <td>7.0</td>\n",
       "    </tr>\n",
       "    <tr>\n",
       "      <th>IDR</th>\n",
       "      <td>10.0</td>\n",
       "      <td>12.0</td>\n",
       "    </tr>\n",
       "    <tr>\n",
       "      <th>RUB</th>\n",
       "      <td>7.0</td>\n",
       "      <td>7.0</td>\n",
       "    </tr>\n",
       "    <tr>\n",
       "      <th>PHP</th>\n",
       "      <td>4.0</td>\n",
       "      <td>6.0</td>\n",
       "    </tr>\n",
       "    <tr>\n",
       "      <th>BRL</th>\n",
       "      <td>4.0</td>\n",
       "      <td>3.0</td>\n",
       "    </tr>\n",
       "    <tr>\n",
       "      <th>PLN</th>\n",
       "      <td>2.0</td>\n",
       "      <td>5.0</td>\n",
       "    </tr>\n",
       "    <tr>\n",
       "      <th>SEK</th>\n",
       "      <td>2.0</td>\n",
       "      <td>2.0</td>\n",
       "    </tr>\n",
       "    <tr>\n",
       "      <th>UAH</th>\n",
       "      <td>2.0</td>\n",
       "      <td>2.0</td>\n",
       "    </tr>\n",
       "    <tr>\n",
       "      <th>CZK</th>\n",
       "      <td>2.0</td>\n",
       "      <td>1.0</td>\n",
       "    </tr>\n",
       "  </tbody>\n",
       "</table>\n",
       "</div>"
      ],
      "text/plain": [
       "     withoutNans  withNans\n",
       "CNY         21.0      17.0\n",
       "EUR         11.0       7.0\n",
       "IDR         10.0      12.0\n",
       "RUB          7.0       7.0\n",
       "PHP          4.0       6.0\n",
       "BRL          4.0       3.0\n",
       "PLN          2.0       5.0\n",
       "SEK          2.0       2.0\n",
       "UAH          2.0       2.0\n",
       "CZK          2.0       1.0"
      ]
     },
     "execution_count": 68,
     "metadata": {},
     "output_type": "execute_result"
    }
   ],
   "source": [
    "# comparaison between distribution of currencies for df with and without Nans\n",
    "\n",
    "pd.concat([(dfValid.currency.value_counts() / dfValid.shape[0]).rename('withoutNans'), \n",
    "           (dfArchived.currency.value_counts() / dfArchived.shape[0]).rename('withNans')], \n",
    "          axis=1).apply(getperc).head(10)"
   ]
  },
  {
   "cell_type": "code",
   "execution_count": 3,
   "metadata": {},
   "outputs": [
    {
     "data": {
      "text/html": [
       "<div>\n",
       "<style scoped>\n",
       "    .dataframe tbody tr th:only-of-type {\n",
       "        vertical-align: middle;\n",
       "    }\n",
       "\n",
       "    .dataframe tbody tr th {\n",
       "        vertical-align: top;\n",
       "    }\n",
       "\n",
       "    .dataframe thead th {\n",
       "        text-align: right;\n",
       "    }\n",
       "</style>\n",
       "<table border=\"1\" class=\"dataframe\">\n",
       "  <thead>\n",
       "    <tr style=\"text-align: right;\">\n",
       "      <th></th>\n",
       "      <th>brand</th>\n",
       "      <th>category_id</th>\n",
       "      <th>comment</th>\n",
       "      <th>currency</th>\n",
       "      <th>description</th>\n",
       "      <th>image</th>\n",
       "      <th>year_release</th>\n",
       "    </tr>\n",
       "  </thead>\n",
       "  <tbody>\n",
       "    <tr>\n",
       "      <th>0</th>\n",
       "      <td>Toshiba</td>\n",
       "      <td>71</td>\n",
       "      <td>NaN</td>\n",
       "      <td>NOK</td>\n",
       "      <td>Male</td>\n",
       "      <td>data:image/png;base64,iVBORw0KGgoAAAANSUhEUgAA...</td>\n",
       "      <td>1993</td>\n",
       "    </tr>\n",
       "    <tr>\n",
       "      <th>1</th>\n",
       "      <td>HP</td>\n",
       "      <td>99</td>\n",
       "      <td>Suspendisse accumsan tortor quis turpis.</td>\n",
       "      <td>PEN</td>\n",
       "      <td>Male</td>\n",
       "      <td>data:image/png;base64,iVBORw0KGgoAAAANSUhEUgAA...</td>\n",
       "      <td>1988</td>\n",
       "    </tr>\n",
       "    <tr>\n",
       "      <th>2</th>\n",
       "      <td>Acer</td>\n",
       "      <td>69</td>\n",
       "      <td>Donec dapibus. Duis at velit eu est congue ele...</td>\n",
       "      <td>IDR</td>\n",
       "      <td>Female</td>\n",
       "      <td>data:image/png;base64,iVBORw0KGgoAAAANSUhEUgAA...</td>\n",
       "      <td>2010</td>\n",
       "    </tr>\n",
       "    <tr>\n",
       "      <th>3</th>\n",
       "      <td>HP</td>\n",
       "      <td>62</td>\n",
       "      <td>NaN</td>\n",
       "      <td>CNY</td>\n",
       "      <td>Female</td>\n",
       "      <td>data:image/png;base64,iVBORw0KGgoAAAANSUhEUgAA...</td>\n",
       "      <td>2008</td>\n",
       "    </tr>\n",
       "    <tr>\n",
       "      <th>4</th>\n",
       "      <td>Dell</td>\n",
       "      <td>48</td>\n",
       "      <td>Vivamus in felis eu sapien cursus vestibulum. ...</td>\n",
       "      <td>CNY</td>\n",
       "      <td>Male</td>\n",
       "      <td>data:image/png;base64,iVBORw0KGgoAAAANSUhEUgAA...</td>\n",
       "      <td>2013</td>\n",
       "    </tr>\n",
       "    <tr>\n",
       "      <th>...</th>\n",
       "      <td>...</td>\n",
       "      <td>...</td>\n",
       "      <td>...</td>\n",
       "      <td>...</td>\n",
       "      <td>...</td>\n",
       "      <td>...</td>\n",
       "      <td>...</td>\n",
       "    </tr>\n",
       "    <tr>\n",
       "      <th>995</th>\n",
       "      <td>Acer</td>\n",
       "      <td>29</td>\n",
       "      <td>Cras non velit nec nisi vulputate nonummy. Mae...</td>\n",
       "      <td>EUR</td>\n",
       "      <td>Female</td>\n",
       "      <td>data:image/png;base64,iVBORw0KGgoAAAANSUhEUgAA...</td>\n",
       "      <td>2009</td>\n",
       "    </tr>\n",
       "    <tr>\n",
       "      <th>996</th>\n",
       "      <td>Toshiba</td>\n",
       "      <td>45</td>\n",
       "      <td>Curabitur at ipsum ac tellus semper interdum.</td>\n",
       "      <td>COP</td>\n",
       "      <td>Male</td>\n",
       "      <td>data:image/png;base64,iVBORw0KGgoAAAANSUhEUgAA...</td>\n",
       "      <td>2006</td>\n",
       "    </tr>\n",
       "    <tr>\n",
       "      <th>997</th>\n",
       "      <td>Acer</td>\n",
       "      <td>70</td>\n",
       "      <td>Nulla justo.</td>\n",
       "      <td>IDR</td>\n",
       "      <td>Female</td>\n",
       "      <td>data:image/png;base64,iVBORw0KGgoAAAANSUhEUgAA...</td>\n",
       "      <td>1994</td>\n",
       "    </tr>\n",
       "    <tr>\n",
       "      <th>998</th>\n",
       "      <td>HP</td>\n",
       "      <td>100</td>\n",
       "      <td>Nam dui. Proin leo odio, porttitor id, consequ...</td>\n",
       "      <td>CNY</td>\n",
       "      <td>Female</td>\n",
       "      <td>data:image/png;base64,iVBORw0KGgoAAAANSUhEUgAA...</td>\n",
       "      <td>1990</td>\n",
       "    </tr>\n",
       "    <tr>\n",
       "      <th>999</th>\n",
       "      <td>Toshiba</td>\n",
       "      <td>39</td>\n",
       "      <td>Morbi vestibulum, velit id pretium iaculis, di...</td>\n",
       "      <td>CNY</td>\n",
       "      <td>Female</td>\n",
       "      <td>data:image/png;base64,iVBORw0KGgoAAAANSUhEUgAA...</td>\n",
       "      <td>2008</td>\n",
       "    </tr>\n",
       "  </tbody>\n",
       "</table>\n",
       "<p>1000 rows × 7 columns</p>\n",
       "</div>"
      ],
      "text/plain": [
       "       brand  category_id                                            comment  \\\n",
       "0    Toshiba           71                                                NaN   \n",
       "1         HP           99           Suspendisse accumsan tortor quis turpis.   \n",
       "2       Acer           69  Donec dapibus. Duis at velit eu est congue ele...   \n",
       "3         HP           62                                                NaN   \n",
       "4       Dell           48  Vivamus in felis eu sapien cursus vestibulum. ...   \n",
       "..       ...          ...                                                ...   \n",
       "995     Acer           29  Cras non velit nec nisi vulputate nonummy. Mae...   \n",
       "996  Toshiba           45      Curabitur at ipsum ac tellus semper interdum.   \n",
       "997     Acer           70                                       Nulla justo.   \n",
       "998       HP          100  Nam dui. Proin leo odio, porttitor id, consequ...   \n",
       "999  Toshiba           39  Morbi vestibulum, velit id pretium iaculis, di...   \n",
       "\n",
       "    currency description                                              image  \\\n",
       "0        NOK        Male  data:image/png;base64,iVBORw0KGgoAAAANSUhEUgAA...   \n",
       "1        PEN        Male  data:image/png;base64,iVBORw0KGgoAAAANSUhEUgAA...   \n",
       "2        IDR      Female  data:image/png;base64,iVBORw0KGgoAAAANSUhEUgAA...   \n",
       "3        CNY      Female  data:image/png;base64,iVBORw0KGgoAAAANSUhEUgAA...   \n",
       "4        CNY        Male  data:image/png;base64,iVBORw0KGgoAAAANSUhEUgAA...   \n",
       "..       ...         ...                                                ...   \n",
       "995      EUR      Female  data:image/png;base64,iVBORw0KGgoAAAANSUhEUgAA...   \n",
       "996      COP        Male  data:image/png;base64,iVBORw0KGgoAAAANSUhEUgAA...   \n",
       "997      IDR      Female  data:image/png;base64,iVBORw0KGgoAAAANSUhEUgAA...   \n",
       "998      CNY      Female  data:image/png;base64,iVBORw0KGgoAAAANSUhEUgAA...   \n",
       "999      CNY      Female  data:image/png;base64,iVBORw0KGgoAAAANSUhEUgAA...   \n",
       "\n",
       "     year_release  \n",
       "0            1993  \n",
       "1            1988  \n",
       "2            2010  \n",
       "3            2008  \n",
       "4            2013  \n",
       "..            ...  \n",
       "995          2009  \n",
       "996          2006  \n",
       "997          1994  \n",
       "998          1990  \n",
       "999          2008  \n",
       "\n",
       "[1000 rows x 7 columns]"
      ]
     },
     "execution_count": 3,
     "metadata": {},
     "output_type": "execute_result"
    }
   ],
   "source": [
    "df"
   ]
  },
  {
   "cell_type": "code",
   "execution_count": null,
   "metadata": {},
   "outputs": [],
   "source": []
  },
  {
   "cell_type": "code",
   "execution_count": null,
   "metadata": {},
   "outputs": [],
   "source": []
  },
  {
   "cell_type": "code",
   "execution_count": 4,
   "metadata": {},
   "outputs": [
    {
     "data": {
      "image/png": "[encoded data removed]",
      "text/plain": [
       "<Figure size 432x288 with 1 Axes>"
      ]
     },
     "metadata": {
      "needs_background": "light"
     },
     "output_type": "display_data"
    }
   ],
   "source": [
    "df.year_release.value_counts().sort_index().plot();"
   ]
  },
  {
   "cell_type": "code",
   "execution_count": null,
   "metadata": {},
   "outputs": [],
   "source": []
  },
  {
   "cell_type": "code",
   "execution_count": 5,
   "metadata": {},
   "outputs": [
    {
     "data": {
      "text/plain": [
       "1    346\n",
       "2    123\n",
       "3     40\n",
       "4      7\n",
       "Name: image, dtype: int64"
      ]
     },
     "execution_count": 5,
     "metadata": {},
     "output_type": "execute_result"
    }
   ],
   "source": [
    "df.image.value_counts().value_counts()"
   ]
  },
  {
   "cell_type": "code",
   "execution_count": 6,
   "metadata": {},
   "outputs": [
    {
     "data": {
      "text/html": [
       "<div>\n",
       "<style scoped>\n",
       "    .dataframe tbody tr th:only-of-type {\n",
       "        vertical-align: middle;\n",
       "    }\n",
       "\n",
       "    .dataframe tbody tr th {\n",
       "        vertical-align: top;\n",
       "    }\n",
       "\n",
       "    .dataframe thead th {\n",
       "        text-align: right;\n",
       "    }\n",
       "</style>\n",
       "<table border=\"1\" class=\"dataframe\">\n",
       "  <thead>\n",
       "    <tr style=\"text-align: right;\">\n",
       "      <th></th>\n",
       "      <th>brand</th>\n",
       "      <th>category_id</th>\n",
       "      <th>comment</th>\n",
       "      <th>currency</th>\n",
       "      <th>description</th>\n",
       "      <th>image</th>\n",
       "      <th>year_release</th>\n",
       "    </tr>\n",
       "  </thead>\n",
       "  <tbody>\n",
       "    <tr>\n",
       "      <th>0</th>\n",
       "      <td>Toshiba</td>\n",
       "      <td>71</td>\n",
       "      <td>NaN</td>\n",
       "      <td>NOK</td>\n",
       "      <td>Male</td>\n",
       "      <td>data:image/png;base64,iVBORw0KGgoAAAANSUhEUgAA...</td>\n",
       "      <td>1993</td>\n",
       "    </tr>\n",
       "    <tr>\n",
       "      <th>1</th>\n",
       "      <td>HP</td>\n",
       "      <td>99</td>\n",
       "      <td>Suspendisse accumsan tortor quis turpis.</td>\n",
       "      <td>PEN</td>\n",
       "      <td>Male</td>\n",
       "      <td>data:image/png;base64,iVBORw0KGgoAAAANSUhEUgAA...</td>\n",
       "      <td>1988</td>\n",
       "    </tr>\n",
       "    <tr>\n",
       "      <th>2</th>\n",
       "      <td>Acer</td>\n",
       "      <td>69</td>\n",
       "      <td>Donec dapibus. Duis at velit eu est congue ele...</td>\n",
       "      <td>IDR</td>\n",
       "      <td>Female</td>\n",
       "      <td>data:image/png;base64,iVBORw0KGgoAAAANSUhEUgAA...</td>\n",
       "      <td>2010</td>\n",
       "    </tr>\n",
       "    <tr>\n",
       "      <th>3</th>\n",
       "      <td>HP</td>\n",
       "      <td>62</td>\n",
       "      <td>NaN</td>\n",
       "      <td>CNY</td>\n",
       "      <td>Female</td>\n",
       "      <td>data:image/png;base64,iVBORw0KGgoAAAANSUhEUgAA...</td>\n",
       "      <td>2008</td>\n",
       "    </tr>\n",
       "    <tr>\n",
       "      <th>4</th>\n",
       "      <td>Dell</td>\n",
       "      <td>48</td>\n",
       "      <td>Vivamus in felis eu sapien cursus vestibulum. ...</td>\n",
       "      <td>CNY</td>\n",
       "      <td>Male</td>\n",
       "      <td>data:image/png;base64,iVBORw0KGgoAAAANSUhEUgAA...</td>\n",
       "      <td>2013</td>\n",
       "    </tr>\n",
       "    <tr>\n",
       "      <th>...</th>\n",
       "      <td>...</td>\n",
       "      <td>...</td>\n",
       "      <td>...</td>\n",
       "      <td>...</td>\n",
       "      <td>...</td>\n",
       "      <td>...</td>\n",
       "      <td>...</td>\n",
       "    </tr>\n",
       "    <tr>\n",
       "      <th>995</th>\n",
       "      <td>Acer</td>\n",
       "      <td>29</td>\n",
       "      <td>Cras non velit nec nisi vulputate nonummy. Mae...</td>\n",
       "      <td>EUR</td>\n",
       "      <td>Female</td>\n",
       "      <td>data:image/png;base64,iVBORw0KGgoAAAANSUhEUgAA...</td>\n",
       "      <td>2009</td>\n",
       "    </tr>\n",
       "    <tr>\n",
       "      <th>996</th>\n",
       "      <td>Toshiba</td>\n",
       "      <td>45</td>\n",
       "      <td>Curabitur at ipsum ac tellus semper interdum.</td>\n",
       "      <td>COP</td>\n",
       "      <td>Male</td>\n",
       "      <td>data:image/png;base64,iVBORw0KGgoAAAANSUhEUgAA...</td>\n",
       "      <td>2006</td>\n",
       "    </tr>\n",
       "    <tr>\n",
       "      <th>997</th>\n",
       "      <td>Acer</td>\n",
       "      <td>70</td>\n",
       "      <td>Nulla justo.</td>\n",
       "      <td>IDR</td>\n",
       "      <td>Female</td>\n",
       "      <td>data:image/png;base64,iVBORw0KGgoAAAANSUhEUgAA...</td>\n",
       "      <td>1994</td>\n",
       "    </tr>\n",
       "    <tr>\n",
       "      <th>998</th>\n",
       "      <td>HP</td>\n",
       "      <td>100</td>\n",
       "      <td>Nam dui. Proin leo odio, porttitor id, consequ...</td>\n",
       "      <td>CNY</td>\n",
       "      <td>Female</td>\n",
       "      <td>data:image/png;base64,iVBORw0KGgoAAAANSUhEUgAA...</td>\n",
       "      <td>1990</td>\n",
       "    </tr>\n",
       "    <tr>\n",
       "      <th>999</th>\n",
       "      <td>Toshiba</td>\n",
       "      <td>39</td>\n",
       "      <td>Morbi vestibulum, velit id pretium iaculis, di...</td>\n",
       "      <td>CNY</td>\n",
       "      <td>Female</td>\n",
       "      <td>data:image/png;base64,iVBORw0KGgoAAAANSUhEUgAA...</td>\n",
       "      <td>2008</td>\n",
       "    </tr>\n",
       "  </tbody>\n",
       "</table>\n",
       "<p>1000 rows × 7 columns</p>\n",
       "</div>"
      ],
      "text/plain": [
       "       brand  category_id                                            comment  \\\n",
       "0    Toshiba           71                                                NaN   \n",
       "1         HP           99           Suspendisse accumsan tortor quis turpis.   \n",
       "2       Acer           69  Donec dapibus. Duis at velit eu est congue ele...   \n",
       "3         HP           62                                                NaN   \n",
       "4       Dell           48  Vivamus in felis eu sapien cursus vestibulum. ...   \n",
       "..       ...          ...                                                ...   \n",
       "995     Acer           29  Cras non velit nec nisi vulputate nonummy. Mae...   \n",
       "996  Toshiba           45      Curabitur at ipsum ac tellus semper interdum.   \n",
       "997     Acer           70                                       Nulla justo.   \n",
       "998       HP          100  Nam dui. Proin leo odio, porttitor id, consequ...   \n",
       "999  Toshiba           39  Morbi vestibulum, velit id pretium iaculis, di...   \n",
       "\n",
       "    currency description                                              image  \\\n",
       "0        NOK        Male  data:image/png;base64,iVBORw0KGgoAAAANSUhEUgAA...   \n",
       "1        PEN        Male  data:image/png;base64,iVBORw0KGgoAAAANSUhEUgAA...   \n",
       "2        IDR      Female  data:image/png;base64,iVBORw0KGgoAAAANSUhEUgAA...   \n",
       "3        CNY      Female  data:image/png;base64,iVBORw0KGgoAAAANSUhEUgAA...   \n",
       "4        CNY        Male  data:image/png;base64,iVBORw0KGgoAAAANSUhEUgAA...   \n",
       "..       ...         ...                                                ...   \n",
       "995      EUR      Female  data:image/png;base64,iVBORw0KGgoAAAANSUhEUgAA...   \n",
       "996      COP        Male  data:image/png;base64,iVBORw0KGgoAAAANSUhEUgAA...   \n",
       "997      IDR      Female  data:image/png;base64,iVBORw0KGgoAAAANSUhEUgAA...   \n",
       "998      CNY      Female  data:image/png;base64,iVBORw0KGgoAAAANSUhEUgAA...   \n",
       "999      CNY      Female  data:image/png;base64,iVBORw0KGgoAAAANSUhEUgAA...   \n",
       "\n",
       "     year_release  \n",
       "0            1993  \n",
       "1            1988  \n",
       "2            2010  \n",
       "3            2008  \n",
       "4            2013  \n",
       "..            ...  \n",
       "995          2009  \n",
       "996          2006  \n",
       "997          1994  \n",
       "998          1990  \n",
       "999          2008  \n",
       "\n",
       "[1000 rows x 7 columns]"
      ]
     },
     "execution_count": 6,
     "metadata": {},
     "output_type": "execute_result"
    }
   ],
   "source": [
    "df"
   ]
  },
  {
   "cell_type": "code",
   "execution_count": 7,
   "metadata": {},
   "outputs": [
    {
     "data": {
      "text/plain": [
       "brand             0\n",
       "category_id       0\n",
       "comment          71\n",
       "currency          0\n",
       "description     163\n",
       "image           260\n",
       "year_release      0\n",
       "dtype: int64"
      ]
     },
     "execution_count": 7,
     "metadata": {},
     "output_type": "execute_result"
    }
   ],
   "source": [
    "df.isna().sum()"
   ]
  },
  {
   "cell_type": "code",
   "execution_count": 8,
   "metadata": {},
   "outputs": [
    {
     "data": {
      "text/plain": [
       "(1000, 7)"
      ]
     },
     "execution_count": 8,
     "metadata": {},
     "output_type": "execute_result"
    }
   ],
   "source": [
    "df.shape"
   ]
  },
  {
   "cell_type": "code",
   "execution_count": 9,
   "metadata": {},
   "outputs": [
    {
     "data": {
      "text/plain": [
       "(578, 7)"
      ]
     },
     "execution_count": 9,
     "metadata": {},
     "output_type": "execute_result"
    }
   ],
   "source": [
    "df.dropna().shape"
   ]
  },
  {
   "cell_type": "code",
   "execution_count": 10,
   "metadata": {},
   "outputs": [
    {
     "data": {
      "text/html": [
       "<div>\n",
       "<style scoped>\n",
       "    .dataframe tbody tr th:only-of-type {\n",
       "        vertical-align: middle;\n",
       "    }\n",
       "\n",
       "    .dataframe tbody tr th {\n",
       "        vertical-align: top;\n",
       "    }\n",
       "\n",
       "    .dataframe thead th {\n",
       "        text-align: right;\n",
       "    }\n",
       "</style>\n",
       "<table border=\"1\" class=\"dataframe\">\n",
       "  <thead>\n",
       "    <tr style=\"text-align: right;\">\n",
       "      <th></th>\n",
       "      <th>brand</th>\n",
       "      <th>category_id</th>\n",
       "      <th>comment</th>\n",
       "      <th>currency</th>\n",
       "      <th>description</th>\n",
       "      <th>image</th>\n",
       "      <th>year_release</th>\n",
       "    </tr>\n",
       "  </thead>\n",
       "  <tbody>\n",
       "    <tr>\n",
       "      <th>10</th>\n",
       "      <td>HP</td>\n",
       "      <td>32</td>\n",
       "      <td>Duis aliquam convallis nunc. Proin at turpis a...</td>\n",
       "      <td>RUB</td>\n",
       "      <td>Female</td>\n",
       "      <td>NaN</td>\n",
       "      <td>2005</td>\n",
       "    </tr>\n",
       "    <tr>\n",
       "      <th>12</th>\n",
       "      <td>Toshiba</td>\n",
       "      <td>24</td>\n",
       "      <td>Donec ut mauris eget massa tempor convallis. N...</td>\n",
       "      <td>XOF</td>\n",
       "      <td>Female</td>\n",
       "      <td>NaN</td>\n",
       "      <td>2012</td>\n",
       "    </tr>\n",
       "    <tr>\n",
       "      <th>18</th>\n",
       "      <td>Dell</td>\n",
       "      <td>75</td>\n",
       "      <td>Proin eu mi. Nulla ac enim. In tempor, turpis ...</td>\n",
       "      <td>EUR</td>\n",
       "      <td>NaN</td>\n",
       "      <td>NaN</td>\n",
       "      <td>1995</td>\n",
       "    </tr>\n",
       "    <tr>\n",
       "      <th>21</th>\n",
       "      <td>Toshiba</td>\n",
       "      <td>3</td>\n",
       "      <td>Nulla ut erat id mauris vulputate elementum. N...</td>\n",
       "      <td>CNY</td>\n",
       "      <td>Female</td>\n",
       "      <td>NaN</td>\n",
       "      <td>2007</td>\n",
       "    </tr>\n",
       "    <tr>\n",
       "      <th>25</th>\n",
       "      <td>Dell</td>\n",
       "      <td>96</td>\n",
       "      <td>In est risus, auctor sed, tristique in, tempus...</td>\n",
       "      <td>IDR</td>\n",
       "      <td>Male</td>\n",
       "      <td>NaN</td>\n",
       "      <td>2012</td>\n",
       "    </tr>\n",
       "    <tr>\n",
       "      <th>...</th>\n",
       "      <td>...</td>\n",
       "      <td>...</td>\n",
       "      <td>...</td>\n",
       "      <td>...</td>\n",
       "      <td>...</td>\n",
       "      <td>...</td>\n",
       "      <td>...</td>\n",
       "    </tr>\n",
       "    <tr>\n",
       "      <th>974</th>\n",
       "      <td>Acer</td>\n",
       "      <td>65</td>\n",
       "      <td>Phasellus sit amet erat. Nulla tempus. Vivamus...</td>\n",
       "      <td>EUR</td>\n",
       "      <td>Female</td>\n",
       "      <td>NaN</td>\n",
       "      <td>1996</td>\n",
       "    </tr>\n",
       "    <tr>\n",
       "      <th>976</th>\n",
       "      <td>Acer</td>\n",
       "      <td>50</td>\n",
       "      <td>Duis consequat dui nec nisi volutpat eleifend....</td>\n",
       "      <td>NOK</td>\n",
       "      <td>NaN</td>\n",
       "      <td>NaN</td>\n",
       "      <td>1998</td>\n",
       "    </tr>\n",
       "    <tr>\n",
       "      <th>981</th>\n",
       "      <td>Dell</td>\n",
       "      <td>50</td>\n",
       "      <td>In blandit ultrices enim. Lorem ipsum dolor si...</td>\n",
       "      <td>PLN</td>\n",
       "      <td>Male</td>\n",
       "      <td>NaN</td>\n",
       "      <td>2001</td>\n",
       "    </tr>\n",
       "    <tr>\n",
       "      <th>984</th>\n",
       "      <td>Samsung</td>\n",
       "      <td>93</td>\n",
       "      <td>Cum sociis natoque penatibus et magnis dis par...</td>\n",
       "      <td>JOD</td>\n",
       "      <td>Male</td>\n",
       "      <td>NaN</td>\n",
       "      <td>2012</td>\n",
       "    </tr>\n",
       "    <tr>\n",
       "      <th>987</th>\n",
       "      <td>HP</td>\n",
       "      <td>69</td>\n",
       "      <td>NaN</td>\n",
       "      <td>PLN</td>\n",
       "      <td>Male</td>\n",
       "      <td>NaN</td>\n",
       "      <td>2001</td>\n",
       "    </tr>\n",
       "  </tbody>\n",
       "</table>\n",
       "<p>260 rows × 7 columns</p>\n",
       "</div>"
      ],
      "text/plain": [
       "       brand  category_id                                            comment  \\\n",
       "10        HP           32  Duis aliquam convallis nunc. Proin at turpis a...   \n",
       "12   Toshiba           24  Donec ut mauris eget massa tempor convallis. N...   \n",
       "18      Dell           75  Proin eu mi. Nulla ac enim. In tempor, turpis ...   \n",
       "21   Toshiba            3  Nulla ut erat id mauris vulputate elementum. N...   \n",
       "25      Dell           96  In est risus, auctor sed, tristique in, tempus...   \n",
       "..       ...          ...                                                ...   \n",
       "974     Acer           65  Phasellus sit amet erat. Nulla tempus. Vivamus...   \n",
       "976     Acer           50  Duis consequat dui nec nisi volutpat eleifend....   \n",
       "981     Dell           50  In blandit ultrices enim. Lorem ipsum dolor si...   \n",
       "984  Samsung           93  Cum sociis natoque penatibus et magnis dis par...   \n",
       "987       HP           69                                                NaN   \n",
       "\n",
       "    currency description image  year_release  \n",
       "10       RUB      Female   NaN          2005  \n",
       "12       XOF      Female   NaN          2012  \n",
       "18       EUR         NaN   NaN          1995  \n",
       "21       CNY      Female   NaN          2007  \n",
       "25       IDR        Male   NaN          2012  \n",
       "..       ...         ...   ...           ...  \n",
       "974      EUR      Female   NaN          1996  \n",
       "976      NOK         NaN   NaN          1998  \n",
       "981      PLN        Male   NaN          2001  \n",
       "984      JOD        Male   NaN          2012  \n",
       "987      PLN        Male   NaN          2001  \n",
       "\n",
       "[260 rows x 7 columns]"
      ]
     },
     "execution_count": 10,
     "metadata": {},
     "output_type": "execute_result"
    }
   ],
   "source": [
    "df[df.image.str.find('image') != 5]"
   ]
  },
  {
   "cell_type": "code",
   "execution_count": 11,
   "metadata": {},
   "outputs": [
    {
     "data": {
      "text/plain": [
       "1000"
      ]
     },
     "execution_count": 11,
     "metadata": {},
     "output_type": "execute_result"
    }
   ],
   "source": [
    "df.brand.value_counts().sum()"
   ]
  },
  {
   "cell_type": "code",
   "execution_count": 12,
   "metadata": {},
   "outputs": [
    {
     "data": {
      "text/plain": [
       "HP         175\n",
       "Samsung    173\n",
       "Dell       172\n",
       "Toshiba    168\n",
       "Acer       164\n",
       "Lenovo     148\n",
       "Name: brand, dtype: int64"
      ]
     },
     "execution_count": 12,
     "metadata": {},
     "output_type": "execute_result"
    }
   ],
   "source": [
    "df.brand.value_counts()"
   ]
  },
  {
   "cell_type": "code",
   "execution_count": 13,
   "metadata": {},
   "outputs": [
    {
     "data": {
      "text/plain": [
       "1050"
      ]
     },
     "execution_count": 13,
     "metadata": {},
     "output_type": "execute_result"
    }
   ],
   "source": [
    "175*6"
   ]
  },
  {
   "cell_type": "code",
   "execution_count": null,
   "metadata": {},
   "outputs": [],
   "source": []
  }
 ],
 "metadata": {
  "kernelspec": {
   "display_name": "Python 3",
   "language": "python",
   "name": "python3"
  },
  "language_info": {
   "codemirror_mode": {
    "name": "ipython",
    "version": 3
   },
   "file_extension": ".py",
   "mimetype": "text/x-python",
   "name": "python",
   "nbconvert_exporter": "python",
   "pygments_lexer": "ipython3",
   "version": "3.8.5"
  }
 },
 "nbformat": 4,
 "nbformat_minor": 4
}
